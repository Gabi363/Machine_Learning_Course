{
 "cells": [
  {
   "cell_type": "code",
   "execution_count": 8,
   "id": "b61d6a26-7f3f-4753-811f-394a85ab65be",
   "metadata": {},
   "outputs": [],
   "source": [
    "import numpy as np\n",
    "import pickle\n",
    "import pandas as pd\n",
    "from sklearn import datasets\n",
    "from sklearn.datasets import load_iris\n",
    "from sklearn.decomposition import PCA\n",
    "from sklearn.preprocessing import StandardScaler"
   ]
  },
  {
   "cell_type": "markdown",
   "id": "4694bce4-27b0-43ac-83da-a7bcde005e01",
   "metadata": {},
   "source": [
    "# 1 - 2"
   ]
  },
  {
   "cell_type": "code",
   "execution_count": 10,
   "id": "5a84f1e7-0158-4173-bbc2-14e5ea0ac8b4",
   "metadata": {},
   "outputs": [
    {
     "data": {
      "text/plain": [
       "((569, 30), (150, 4))"
      ]
     },
     "execution_count": 10,
     "metadata": {},
     "output_type": "execute_result"
    }
   ],
   "source": [
    "data_breast_cancer = datasets.load_breast_cancer(as_frame=True)\n",
    "data_iris = load_iris(as_frame=True)\n",
    "\n",
    "Xb = data_breast_cancer.data\n",
    "yb = data_breast_cancer.target\n",
    "Xi = data_iris.data\n",
    "yi = data_iris.target\n",
    "\n",
    "Xb.shape, Xi.shape"
   ]
  },
  {
   "cell_type": "code",
   "execution_count": 11,
   "id": "9e60fe8d-39f7-4df9-a721-881984870a25",
   "metadata": {},
   "outputs": [],
   "source": [
    "scaler = StandardScaler()\n",
    "Xb_scaled = scaler.fit_transform(Xb)\n",
    "Xi_scaled = scaler.fit_transform(Xi)"
   ]
  },
  {
   "cell_type": "code",
   "execution_count": 13,
   "id": "8d5692a0-78de-44cf-ad0a-5172118e0f40",
   "metadata": {},
   "outputs": [
    {
     "name": "stdout",
     "output_type": "stream",
     "text": [
      "Cancer\n",
      "(569, 30) --> (569, 1)\n",
      "[0.98204467]\n",
      "Iris\n",
      "(150, 4) --> (150, 1)\n",
      "[0.92461872]\n"
     ]
    }
   ],
   "source": [
    "pca_b = PCA(n_components=0.9)\n",
    "Xb_pca = pca_b.fit_transform(Xb)\n",
    "print(\"Cancer\")\n",
    "print(Xb.shape,'-->', Xb_pca.shape)\n",
    "print(pca_b.explained_variance_ratio_)\n",
    "\n",
    "pca_i = PCA(n_components=0.9)\n",
    "Xi_pca = pca_i.fit_transform(Xi)\n",
    "print(\"Iris\")\n",
    "print(Xi.shape,'-->', Xi_pca.shape)\n",
    "print(pca_i.explained_variance_ratio_)\n"
   ]
  },
  {
   "cell_type": "markdown",
   "id": "d44635c0-1e13-48c0-9225-7a0abf36f94f",
   "metadata": {},
   "source": [
    "# 3"
   ]
  },
  {
   "cell_type": "code",
   "execution_count": 15,
   "id": "0d6c7d3a-5e3a-4ce6-86ce-c289d7b3b082",
   "metadata": {},
   "outputs": [
    {
     "name": "stdout",
     "output_type": "stream",
     "text": [
      "Cancer\n",
      "(569, 30) --> (569, 7)\n",
      "[0.44272026 0.18971182 0.09393163 0.06602135 0.05495768 0.04024522\n",
      " 0.02250734]\n",
      "Iris\n",
      "(150, 4) --> (150, 2)\n",
      "[0.72962445 0.22850762]\n"
     ]
    }
   ],
   "source": [
    "pca_b_scaled = PCA(n_components=0.9)\n",
    "Xb_scaled_pca = pca_b_scaled.fit_transform(Xb_scaled)\n",
    "print(\"Cancer\")\n",
    "print(Xb_scaled.shape,'-->', Xb_scaled_pca.shape)\n",
    "print(pca_b_scaled.explained_variance_ratio_)\n",
    "\n",
    "pca_i_scaled = PCA(n_components=0.9)\n",
    "Xi_scaled_pca = pca_i_scaled.fit_transform(Xi_scaled)\n",
    "print(\"Iris\")\n",
    "print(Xi_scaled.shape,'-->', Xi_scaled_pca.shape)\n",
    "print(pca_i_scaled.explained_variance_ratio_)\n",
    "\n",
    "pd.to_pickle(pca_b_scaled.explained_variance_ratio_, \"pca_bc.pkl\")\n",
    "pd.to_pickle(pca_i_scaled.explained_variance_ratio_, \"pca_ir.pkl\")"
   ]
  },
  {
   "cell_type": "markdown",
   "id": "445bbfc9-8a7b-4e8c-89b8-df628bf3188f",
   "metadata": {},
   "source": [
    "# 4"
   ]
  },
  {
   "cell_type": "code",
   "execution_count": 17,
   "id": "9d58513b-f6d1-464a-ba3b-176f29b12ee6",
   "metadata": {},
   "outputs": [
    {
     "name": "stdout",
     "output_type": "stream",
     "text": [
      "[7, 9, 11, 21, 4, 28, 29]\n",
      "[2, 1]\n"
     ]
    }
   ],
   "source": [
    "features_b = [np.argmax(abs(x)) for x in pca_b_scaled.components_ ]\n",
    "features_i = [np.argmax(abs(x)) for x in pca_i_scaled.components_ ]\n",
    "print(features_b)\n",
    "print(features_i)\n",
    "\n",
    "pd.to_pickle(features_b,\"idx_bc.pkl\")\n",
    "pd.to_pickle(features_i, \"idx_ir.pkl\")"
   ]
  }
 ],
 "metadata": {
  "kernelspec": {
   "display_name": "Python 3 (ipykernel)",
   "language": "python",
   "name": "python3"
  },
  "language_info": {
   "codemirror_mode": {
    "name": "ipython",
    "version": 3
   },
   "file_extension": ".py",
   "mimetype": "text/x-python",
   "name": "python",
   "nbconvert_exporter": "python",
   "pygments_lexer": "ipython3",
   "version": "3.11.8"
  }
 },
 "nbformat": 4,
 "nbformat_minor": 5
}
