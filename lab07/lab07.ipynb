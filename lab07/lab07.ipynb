{
 "cells": [
  {
   "cell_type": "code",
   "execution_count": 8,
   "id": "bad15dc3-832c-45d3-9a5f-323b2cc5cdf2",
   "metadata": {},
   "outputs": [],
   "source": [
    "from sklearn.datasets import fetch_openml\n",
    "import numpy as np\n",
    "import pickle\n",
    "from sklearn.cluster import KMeans\n",
    "from sklearn.metrics import silhouette_score\n",
    "from sklearn.metrics import confusion_matrix\n",
    "from sklearn.cluster import DBSCAN"
   ]
  },
  {
   "cell_type": "markdown",
   "id": "9a12bdae-928d-48df-be8a-d7f456d03fd4",
   "metadata": {},
   "source": [
    "# 2"
   ]
  },
  {
   "cell_type": "code",
   "execution_count": 3,
   "id": "97db90fb-2d6b-434d-b37b-a133cff1d01d",
   "metadata": {},
   "outputs": [],
   "source": [
    "mnist = fetch_openml('mnist_784', version=1, as_frame=False, parser='auto')\n",
    "mnist.target = mnist.target.astype(np.uint8)\n",
    "X = mnist[\"data\"]\n",
    "y = mnist[\"target\"]"
   ]
  },
  {
   "cell_type": "code",
   "execution_count": 7,
   "id": "5a5f2b0e-f929-4613-8214-6bf075e2d7a8",
   "metadata": {},
   "outputs": [],
   "source": [
    "# filter(lambda(x: x!0, distance))"
   ]
  },
  {
   "cell_type": "markdown",
   "id": "546f7bc4-a826-490e-8c3e-690641dcdcde",
   "metadata": {},
   "source": [
    "# 3.1-4"
   ]
  },
  {
   "cell_type": "code",
   "execution_count": 12,
   "id": "5bf32fc9-fbeb-4e75-9df3-fc61315b9b4f",
   "metadata": {},
   "outputs": [
    {
     "name": "stdout",
     "output_type": "stream",
     "text": [
      "[0.07338201924675067, 0.0568179310255884, 0.05871423980472426, 0.05834348905464586, 0.05817341754740102]\n",
      "[[   2   42  173 5046    9    4 1251   80  289    7]\n",
      " [4293    6    7    0   10 3527    7    9    8   10]\n",
      " [ 427  215  151   56 4864  436  243  200  319   79]\n",
      " [ 456  191   33   22  210   53  492 1060 4578   46]\n",
      " [ 181 3735  169    9   29  229  268   16    0 2188]\n",
      " [ 165  424   70   60    7  262 1844 1161 2109  211]\n",
      " [ 200   68 4432   77   56   43 1942   16   38    4]\n",
      " [ 377 2086    4   21   53  310   13   20    5 4404]\n",
      " [ 338  208   54   37   53  316  353 4108 1171  187]\n",
      " [ 267 3456   16   50   20   92   30   89   86 2852]]\n"
     ]
    }
   ],
   "source": [
    "silhouette = []\n",
    "cm = 0\n",
    "for i in range(8, 13):\n",
    "    kmeans = KMeans(n_clusters=i, n_init=10)\n",
    "    kmeans.fit(X)\n",
    "    y_pred = kmeans.predict(X)\n",
    "    \n",
    "    # score = silhouette_score(X, y_pred) \n",
    "    score = silhouette_score(X, kmeans.labels_)\n",
    "    silhouette.append(score)\n",
    "    # print(f\"k = {i} silhouette score = {silhouette[-1]}\")\n",
    "\n",
    "    if i == 10:\n",
    "        cm = confusion_matrix(y, y_pred)\n",
    "        # print(f\"k = {i} confusion matrix = \\n{cm}\", cm)\n",
    "        \n",
    "with open(\"kmeans_sil.pkl\", \"wb\") as file:\n",
    "    pickle.dump(silhouette, file)\n",
    "print(silhouette)\n",
    "print(cm)"
   ]
  },
  {
   "cell_type": "markdown",
   "id": "5cf0c7fe-ce22-4668-9b65-017b6d40f8a0",
   "metadata": {},
   "source": [
    "# 3.5"
   ]
  },
  {
   "cell_type": "code",
   "execution_count": 13,
   "id": "eeaa1629-c0c3-482b-bc43-29e63bd0856b",
   "metadata": {},
   "outputs": [
    {
     "name": "stdout",
     "output_type": "stream",
     "text": [
      "max_indices_sorted = [0, 1, 2, 3, 4, 7, 8, 9]\n"
     ]
    }
   ],
   "source": [
    "max_indices = np.argmax(cm, axis=1)\n",
    "max_indices_sorted = sorted(set(max_indices))\n",
    "\n",
    "with open(\"kmeans_argmax.pkl\", \"wb\") as file:\n",
    "    pickle.dump(max_indices_sorted, file)\n",
    "print(f\"max_indices_sorted = {max_indices_sorted}\")"
   ]
  },
  {
   "cell_type": "markdown",
   "id": "7fa32fd9-08c7-4456-938c-cbeb81cf3a8f",
   "metadata": {},
   "source": [
    "# 3.6"
   ]
  },
  {
   "cell_type": "code",
   "execution_count": 6,
   "id": "3948111e-0f3f-45ba-a0b8-2904d8f5c94b",
   "metadata": {},
   "outputs": [
    {
     "name": "stdout",
     "output_type": "stream",
     "text": [
      "distances = [279.26152617 304.3764117  317.5893575  328.76587414 333.45464459\n",
      " 352.89800226 355.17742045 358.0740147  359.64287842 360.42474943]\n"
     ]
    }
   ],
   "source": [
    "distances = np.array([np.linalg.norm(X[i] - X[j]) for i in range(300) for j in range(len(X))])\n",
    "distances = [i for i in distances if i != 0]\n",
    "distances = np.sort(distances)[:10]\n",
    "\n",
    "with open(\"dist.pkl\", \"wb\") as f:\n",
    "    pickle.dump(list(distances), f)\n",
    "\n",
    "print(f\"distances = {distances}\")"
   ]
  },
  {
   "cell_type": "markdown",
   "id": "63cd9def-7529-4d5c-8a48-3dff0e233b1e",
   "metadata": {},
   "source": [
    "# 3.7-8"
   ]
  },
  {
   "cell_type": "code",
   "execution_count": 9,
   "id": "132238e6-7696-44fd-b0f1-93806143b42e",
   "metadata": {},
   "outputs": [
    {
     "name": "stdout",
     "output_type": "stream",
     "text": [
      "300.40909845916684\n",
      "[300.40909846 312.4254624  324.44182634]\n"
     ]
    }
   ],
   "source": [
    "s = np.mean(distances[:3])\n",
    "print(s)\n",
    "eps_min = s\n",
    "eps_max = s + 0.1*s\n",
    "eps_step = 0.04*s\n",
    "eps_list = np.arange(eps_min, eps_max, eps_step)\n",
    "print(eps_list)\n",
    "\n",
    "for eps in eps_list:\n",
    "    dbscan = DBSCAN(eps=eps)\n",
    "    dbscan.fit(X)\n",
    "    labels = dbscan.labels_"
   ]
  },
  {
   "cell_type": "code",
   "execution_count": 10,
   "id": "9d86500e-2a0f-40da-be8f-ac153afdb777",
   "metadata": {},
   "outputs": [
    {
     "name": "stdout",
     "output_type": "stream",
     "text": [
      "[4, 7, 22]\n"
     ]
    }
   ],
   "source": [
    "label_list = []\n",
    "\n",
    "for eps in eps_list:\n",
    "    dbscan = DBSCAN(eps=eps)\n",
    "    dbscan.fit(X)\n",
    "    n_labels = len(np.unique(dbscan.labels_))\n",
    "    label_list.append(n_labels)\n",
    "\n",
    "with open(\"dbscan_len.pkl\", \"wb\") as f:\n",
    "    pickle.dump(label_list, f)\n",
    "print(label_list)"
   ]
  }
 ],
 "metadata": {
  "kernelspec": {
   "display_name": "Python 3 (ipykernel)",
   "language": "python",
   "name": "python3"
  },
  "language_info": {
   "codemirror_mode": {
    "name": "ipython",
    "version": 3
   },
   "file_extension": ".py",
   "mimetype": "text/x-python",
   "name": "python",
   "nbconvert_exporter": "python",
   "pygments_lexer": "ipython3",
   "version": "3.11.8"
  }
 },
 "nbformat": 4,
 "nbformat_minor": 5
}
